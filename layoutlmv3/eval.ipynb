{
 "cells": [
  {
   "cell_type": "code",
   "execution_count": 42,
   "metadata": {},
   "outputs": [],
   "source": [
    "from PIL import Image, ImageDraw, ImageFont\n",
    "from PIL import ImageDraw\n",
    "from datasets.features import ClassLabel\n",
    "from transformers import AutoModelForTokenClassification, AutoProcessor\n",
    "from datasets import Dataset\n",
    "import torch\n",
    "import numpy as np"
   ]
  },
  {
   "cell_type": "code",
   "execution_count": 192,
   "metadata": {},
   "outputs": [],
   "source": [
    "model = AutoModelForTokenClassification.from_pretrained(\"bmeisburger/datathon\", local_files_only=False)\n",
    "\n",
    "dataset = Dataset.load_from_disk(\"bill_dataset/\")\n",
    "\n",
    "device = torch.device('cuda' if torch.cuda.is_available() else 'cpu')\n",
    "model.to(device)\n",
    "\n",
    "processor = AutoProcessor.from_pretrained(\"microsoft/layoutlmv3-base\", apply_ocr=False)"
   ]
  },
  {
   "cell_type": "code",
   "execution_count": 193,
   "metadata": {},
   "outputs": [
    {
     "data": {
      "text/plain": [
       "{'id': Value(dtype='string', id=None),\n",
       " 'words': Sequence(feature=Value(dtype='string', id=None), length=-1, id=None),\n",
       " 'bboxes': Sequence(feature=Sequence(feature=Value(dtype='int64', id=None), length=-1, id=None), length=-1, id=None),\n",
       " 'image': Image(decode=True, id=None),\n",
       " 'ner_tags': Sequence(feature=ClassLabel(names=['S-TOTAL', 'S-DATE', 'S-ADDRESS', 'S-COMPANY', 'O'], id=None), length=-1, id=None)}"
      ]
     },
     "execution_count": 193,
     "metadata": {},
     "output_type": "execute_result"
    }
   ],
   "source": [
    "dataset.features"
   ]
  },
  {
   "cell_type": "code",
   "execution_count": 194,
   "metadata": {},
   "outputs": [],
   "source": [
    "def iob_to_label(label):\n",
    "    label = label[2:]\n",
    "    if not label:\n",
    "        return 'other'\n",
    "    return label\n",
    "\n",
    "label2color = {'total': 'blue', 'company': 'green',\n",
    "               'date': 'orange', 'address': 'violet', 'other': 'grey'}\n",
    "\n",
    "id2label = {0: 'S-TOTAL', 1: 'S-DATE', 2: 'S-ADDRESS', 3: 'S-COMPANY', 4: 'O'}"
   ]
  },
  {
   "cell_type": "code",
   "execution_count": 195,
   "metadata": {},
   "outputs": [],
   "source": [
    "def unnormalize_box(bbox, width, height):\n",
    "    return (\n",
    "        width * (bbox[0] / 1000),\n",
    "        height * (bbox[1] / 1000),\n",
    "        width * (bbox[2] / 1000),\n",
    "        height * (bbox[3] / 1000))"
   ]
  },
  {
   "cell_type": "code",
   "execution_count": 198,
   "metadata": {},
   "outputs": [],
   "source": [
    "def process_example(i:int):\n",
    "    sample = dataset[i]\n",
    "    image = sample['image'].copy().convert(\"RGB\")  # copy so we don't ruin good art\n",
    "    width, height = image.size\n",
    "\n",
    "    encoded_inputs = processor(sample['image'].convert(\"RGB\"), sample['words'], boxes=sample['bboxes'], word_labels=sample['ner_tags'],\n",
    "                            padding=\"max_length\", truncation=True, return_tensors=\"pt\")\n",
    "\n",
    "    labels = encoded_inputs.pop('labels').squeeze().tolist()\n",
    "\n",
    "    outputs = model(**encoded_inputs)\n",
    "    predictions = outputs.logits.argmax(-1).squeeze().tolist()\n",
    "    token_boxes = encoded_inputs.bbox.squeeze().tolist()\n",
    "\n",
    "    true_predictions = [id2label[prediction] for prediction, label in zip(predictions, labels) if label != -100]\n",
    "\n",
    "    # true_labels = [id2label[label] for prediction, label in zip(predictions, labels) if label != -100]\n",
    "    # true_boxes = [unnormalize_box(box, width, height) for box, label in zip(token_boxes, labels) if label != -100]\n",
    "    # draw = ImageDraw.Draw(image)\n",
    "    # font = ImageFont.truetype(\"Aeonik-Regular.otf\", 32)\n",
    "    # for word, prediction, box in zip(sample['words'], true_predictions, true_boxes):\n",
    "    #     predicted_label = iob_to_label(prediction).lower()\n",
    "    #     if predicted_label != \"other\":\n",
    "    #         draw.rectangle(box, outline=label2color[predicted_label], width=4)\n",
    "    #         # draw.rectangle(box)\n",
    "    #         # draw.text((box[0] + 10, box[1] - 10), text=predicted_label, font=font)\n",
    "    #         draw.text((box[2] + 10, box[1] - 3), text=predicted_label, fill=label2color[predicted_label], font=font)\n",
    "    # image.show()\n",
    "\n",
    "    return sample['words'], true_predictions"
   ]
  },
  {
   "cell_type": "code",
   "execution_count": 199,
   "metadata": {},
   "outputs": [
    {
     "name": "stderr",
     "output_type": "stream",
     "text": [
      "/opt/homebrew/lib/python3.10/site-packages/transformers/modeling_utils.py:810: FutureWarning: The `device` argument is deprecated and will be removed in v5 of Transformers.\n",
      "  warnings.warn(\n"
     ]
    },
    {
     "name": "stdout",
     "output_type": "stream",
     "text": [
      "huggingface/tokenizers: The current process just got forked, after parallelism has already been used. Disabling parallelism to avoid deadlocks...\n",
      "To disable this warning, you can either:\n",
      "\t- Avoid using `tokenizers` before the fork if possible\n",
      "\t- Explicitly set the environment variable TOKENIZERS_PARALLELISM=(true | false)\n",
      "huggingface/tokenizers: The current process just got forked, after parallelism has already been used. Disabling parallelism to avoid deadlocks...\n",
      "To disable this warning, you can either:\n",
      "\t- Avoid using `tokenizers` before the fork if possible\n",
      "\t- Explicitly set the environment variable TOKENIZERS_PARALLELISM=(true | false)\n"
     ]
    },
    {
     "data": {
      "text/plain": [
       "(['PROSPER NIAGA',\n",
       "  'COMPANY NO : SA0099552-P',\n",
       "  'LOT PT 1138',\n",
       "  'BANDAR MAHKOTA CHERAS',\n",
       "  '43200 CHERAS',\n",
       "  'SITE : 2365',\n",
       "  'TEL NO: 03-90199450',\n",
       "  'GST NO : 000534347776',\n",
       "  'PRE-AUTHORISATION',\n",
       "  'PRE AUTH CODE A02A1530024046',\n",
       "  '38.61 LITRE PUMP # 07',\n",
       "  'V-POWER 97',\n",
       "  'RM',\n",
       "  '100.00 K',\n",
       "  '2.590',\n",
       "  'RM',\n",
       "  '/ LITRE',\n",
       "  'TOTAL',\n",
       "  'RM',\n",
       "  '100.00',\n",
       "  'CASH',\n",
       "  'RM',\n",
       "  '100.00',\n",
       "  '0.00% SR GST',\n",
       "  'K',\n",
       "  'RM',\n",
       "  '0.00',\n",
       "  'TOTAL GROSS',\n",
       "  'K',\n",
       "  'RM',\n",
       "  '100.00',\n",
       "  'CASHIER:',\n",
       "  'MFIKRI2',\n",
       "  'THIS IS NOT THE FINAL FISCAL RECEIPT',\n",
       "  'DATE',\n",
       "  'TIME',\n",
       "  'NUM',\n",
       "  'POS CNO SHIFT',\n",
       "  '26/06/18 22:40 45107 02 9577',\n",
       "  '659',\n",
       "  'DIESEL & PETROL RON95 GIVEN RELIEF',\n",
       "  'UNDER SECTION 56(3)(B) GST ACT 2014',\n",
       "  'THANK YOU AND PLEASE COME AGAIN'],\n",
       " ['S-COMPANY',\n",
       "  'O',\n",
       "  'S-ADDRESS',\n",
       "  'S-ADDRESS',\n",
       "  'S-ADDRESS',\n",
       "  'O',\n",
       "  'O',\n",
       "  'O',\n",
       "  'O',\n",
       "  'O',\n",
       "  'O',\n",
       "  'O',\n",
       "  'O',\n",
       "  'O',\n",
       "  'O',\n",
       "  'O',\n",
       "  'O',\n",
       "  'O',\n",
       "  'O',\n",
       "  'O',\n",
       "  'O',\n",
       "  'O',\n",
       "  'O',\n",
       "  'O',\n",
       "  'O',\n",
       "  'O',\n",
       "  'O',\n",
       "  'O',\n",
       "  'O',\n",
       "  'O',\n",
       "  'S-TOTAL',\n",
       "  'O',\n",
       "  'O',\n",
       "  'O',\n",
       "  'O',\n",
       "  'O',\n",
       "  'O',\n",
       "  'O',\n",
       "  'S-DATE',\n",
       "  'O',\n",
       "  'O',\n",
       "  'O',\n",
       "  'O'])"
      ]
     },
     "execution_count": 199,
     "metadata": {},
     "output_type": "execute_result"
    }
   ],
   "source": [
    "# 6, 7, 8\n",
    "process_example(6)"
   ]
  },
  {
   "cell_type": "code",
   "execution_count": 93,
   "metadata": {},
   "outputs": [],
   "source": [
    "import pandas as pd\n",
    "\n",
    "users = pd.read_csv(\"../data/Users.csv\")\n",
    "test = pd.read_csv(\"../data/test_transactions.csv\")\n",
    "\n",
    "total = pd.concat([users, test])\n",
    "\n",
    "doc2payid = {}\n",
    "\n",
    "for i, row in total.iterrows():\n",
    "    doc2payid[row.at['documentid']] = row.at['paymentid']"
   ]
  },
  {
   "cell_type": "code",
   "execution_count": 95,
   "metadata": {},
   "outputs": [
    {
     "name": "stdout",
     "output_type": "stream",
     "text": [
      "625\n"
     ]
    }
   ],
   "source": [
    "print(len(doc2payid.keys()))"
   ]
  },
  {
   "cell_type": "code",
   "execution_count": 97,
   "metadata": {},
   "outputs": [],
   "source": [
    "df = []\n",
    "\n",
    "id2label = {0: 'S-TOTAL', 1: 'S-DATE', 2: 'S-ADDRESS', 3: 'S-COMPANY', 4: 'O'}\n",
    "\n",
    "for i in range(dataset.num_rows):\n",
    "\n",
    "    words, preds = process_example(i)\n",
    "    doc_id = dataset[i]['id']\n",
    "    if doc_id not in doc2payid.keys():\n",
    "        continue\n",
    "    payment_id = doc2payid[doc_id]\n",
    "\n",
    "    row_data = {\"doc_id\": doc_id, \"payment_id\": payment_id, \"S-TOTAL\": \"\", \"S-DATE\": \"\", \"S-ADDRESS\": \"\", \"S-COMPANY\": \"\"}\n",
    "    for word, pred in zip(words, preds):\n",
    "        if pred != \"O\":\n",
    "            row_data[pred] = row_data[pred] + ' ' + word\n",
    "    \n",
    "    for key in row_data.keys():\n",
    "        row_data[key] = row_data[key] if len(row_data[key]) > 0 else pd.NA\n",
    "    \n",
    "    df.append(row_data)"
   ]
  },
  {
   "cell_type": "code",
   "execution_count": 106,
   "metadata": {},
   "outputs": [
    {
     "data": {
      "text/html": [
       "<div>\n",
       "<style scoped>\n",
       "    .dataframe tbody tr th:only-of-type {\n",
       "        vertical-align: middle;\n",
       "    }\n",
       "\n",
       "    .dataframe tbody tr th {\n",
       "        vertical-align: top;\n",
       "    }\n",
       "\n",
       "    .dataframe thead th {\n",
       "        text-align: right;\n",
       "    }\n",
       "</style>\n",
       "<table border=\"1\" class=\"dataframe\">\n",
       "  <thead>\n",
       "    <tr style=\"text-align: right;\">\n",
       "      <th></th>\n",
       "      <th>doc_id</th>\n",
       "      <th>payment_id</th>\n",
       "      <th>S-TOTAL</th>\n",
       "      <th>S-DATE</th>\n",
       "      <th>S-ADDRESS</th>\n",
       "      <th>S-COMPANY</th>\n",
       "    </tr>\n",
       "  </thead>\n",
       "  <tbody>\n",
       "    <tr>\n",
       "      <th>0</th>\n",
       "      <td>00d0377951457</td>\n",
       "      <td>00p0693154757</td>\n",
       "      <td>7.60</td>\n",
       "      <td>&lt;NA&gt;</td>\n",
       "      <td>NO 14&amp; 16 JALAN PERMAS 4/3 BANDAR BARU PERMAS...</td>\n",
       "      <td>TRIPLE SIX POINT ENTERPRISE 666</td>\n",
       "    </tr>\n",
       "    <tr>\n",
       "      <th>1</th>\n",
       "      <td>00d0660852423</td>\n",
       "      <td>00p0965564934</td>\n",
       "      <td>10.30</td>\n",
       "      <td>&lt;NA&gt;</td>\n",
       "      <td>NO 3 BANDAR BARU PERMAS JAYA</td>\n",
       "      <td>LEMON TREE RESTAURANT</td>\n",
       "    </tr>\n",
       "    <tr>\n",
       "      <th>2</th>\n",
       "      <td>00d0803190070</td>\n",
       "      <td>00p0247334622</td>\n",
       "      <td>&lt;NA&gt;</td>\n",
       "      <td>&lt;NA&gt;</td>\n",
       "      <td>NO. 31G&amp;33G 40170 SETIA ALAM</td>\n",
       "      <td>SANYU STATIONERY SHOP</td>\n",
       "    </tr>\n",
       "    <tr>\n",
       "      <th>3</th>\n",
       "      <td>00d0259552507</td>\n",
       "      <td>00p0876493998</td>\n",
       "      <td>&lt;NA&gt;</td>\n",
       "      <td>05-JAN-2017 03:17:50 PM</td>\n",
       "      <td>BANDAR PINGGIRAN SUBANG SEKSYEN U5 40150 SHAH...</td>\n",
       "      <td>S&amp;Y STATIONERY</td>\n",
       "    </tr>\n",
       "    <tr>\n",
       "      <th>4</th>\n",
       "      <td>00d0886341707</td>\n",
       "      <td>00p0151413045</td>\n",
       "      <td>&lt;NA&gt;</td>\n",
       "      <td>&lt;NA&gt;</td>\n",
       "      <td>LOT S25 NO 1 81100 JOHOR BAHRU</td>\n",
       "      <td>DIMILIKI OLEH : DOVE HOLDINGS SDN BHD</td>\n",
       "    </tr>\n",
       "    <tr>\n",
       "      <th>...</th>\n",
       "      <td>...</td>\n",
       "      <td>...</td>\n",
       "      <td>...</td>\n",
       "      <td>...</td>\n",
       "      <td>...</td>\n",
       "      <td>...</td>\n",
       "    </tr>\n",
       "    <tr>\n",
       "      <th>557</th>\n",
       "      <td>00d0880901672</td>\n",
       "      <td>00p0741339461</td>\n",
       "      <td>&lt;NA&gt;</td>\n",
       "      <td>19 APR 2018 18:22</td>\n",
       "      <td>&lt;NA&gt;</td>\n",
       "      <td>UNIHAKKA INTERNATIONAL SDN BHD</td>\n",
       "    </tr>\n",
       "    <tr>\n",
       "      <th>558</th>\n",
       "      <td>00d0677299556</td>\n",
       "      <td>00p0504275506</td>\n",
       "      <td>&lt;NA&gt;</td>\n",
       "      <td>11-05-16</td>\n",
       "      <td>LOT P.T. 33198 JALAN KAPAR 42100 KLANG 1605-T...</td>\n",
       "      <td>99 SPEED MART S/B (519537-X)</td>\n",
       "    </tr>\n",
       "    <tr>\n",
       "      <th>559</th>\n",
       "      <td>00d0242366463</td>\n",
       "      <td>00p0778749877</td>\n",
       "      <td>RM7.90 RM8.35</td>\n",
       "      <td>&lt;NA&gt;</td>\n",
       "      <td>NO.145G LAMAN RIMBUNAN KEPONG 52100 KUALA LUMPUR</td>\n",
       "      <td>YAM FRESH</td>\n",
       "    </tr>\n",
       "    <tr>\n",
       "      <th>560</th>\n",
       "      <td>00d0504003816</td>\n",
       "      <td>00p0361841562</td>\n",
       "      <td>4.60</td>\n",
       "      <td>&lt;NA&gt;</td>\n",
       "      <td>NO.2 SEKSYEN 9 43200 CHERAS</td>\n",
       "      <td>RESTORAN WAN SHENG</td>\n",
       "    </tr>\n",
       "    <tr>\n",
       "      <th>561</th>\n",
       "      <td>00d0944155034</td>\n",
       "      <td>00p0737320548</td>\n",
       "      <td>6.70</td>\n",
       "      <td>&lt;NA&gt;</td>\n",
       "      <td>NO.2 SEKSYEN 9 43200 CHERAS</td>\n",
       "      <td>RESTORAN WAN SHENG</td>\n",
       "    </tr>\n",
       "  </tbody>\n",
       "</table>\n",
       "<p>562 rows × 6 columns</p>\n",
       "</div>"
      ],
      "text/plain": [
       "            doc_id     payment_id         S-TOTAL                    S-DATE  \\\n",
       "0    00d0377951457  00p0693154757            7.60                      <NA>   \n",
       "1    00d0660852423  00p0965564934           10.30                      <NA>   \n",
       "2    00d0803190070  00p0247334622            <NA>                      <NA>   \n",
       "3    00d0259552507  00p0876493998            <NA>   05-JAN-2017 03:17:50 PM   \n",
       "4    00d0886341707  00p0151413045            <NA>                      <NA>   \n",
       "..             ...            ...             ...                       ...   \n",
       "557  00d0880901672  00p0741339461            <NA>         19 APR 2018 18:22   \n",
       "558  00d0677299556  00p0504275506            <NA>                  11-05-16   \n",
       "559  00d0242366463  00p0778749877   RM7.90 RM8.35                      <NA>   \n",
       "560  00d0504003816  00p0361841562            4.60                      <NA>   \n",
       "561  00d0944155034  00p0737320548            6.70                      <NA>   \n",
       "\n",
       "                                             S-ADDRESS  \\\n",
       "0     NO 14& 16 JALAN PERMAS 4/3 BANDAR BARU PERMAS...   \n",
       "1                         NO 3 BANDAR BARU PERMAS JAYA   \n",
       "2                         NO. 31G&33G 40170 SETIA ALAM   \n",
       "3     BANDAR PINGGIRAN SUBANG SEKSYEN U5 40150 SHAH...   \n",
       "4                       LOT S25 NO 1 81100 JOHOR BAHRU   \n",
       "..                                                 ...   \n",
       "557                                               <NA>   \n",
       "558   LOT P.T. 33198 JALAN KAPAR 42100 KLANG 1605-T...   \n",
       "559   NO.145G LAMAN RIMBUNAN KEPONG 52100 KUALA LUMPUR   \n",
       "560                        NO.2 SEKSYEN 9 43200 CHERAS   \n",
       "561                        NO.2 SEKSYEN 9 43200 CHERAS   \n",
       "\n",
       "                                  S-COMPANY  \n",
       "0           TRIPLE SIX POINT ENTERPRISE 666  \n",
       "1                     LEMON TREE RESTAURANT  \n",
       "2                     SANYU STATIONERY SHOP  \n",
       "3                            S&Y STATIONERY  \n",
       "4     DIMILIKI OLEH : DOVE HOLDINGS SDN BHD  \n",
       "..                                      ...  \n",
       "557          UNIHAKKA INTERNATIONAL SDN BHD  \n",
       "558            99 SPEED MART S/B (519537-X)  \n",
       "559                               YAM FRESH  \n",
       "560                      RESTORAN WAN SHENG  \n",
       "561                      RESTORAN WAN SHENG  \n",
       "\n",
       "[562 rows x 6 columns]"
      ]
     },
     "execution_count": 106,
     "metadata": {},
     "output_type": "execute_result"
    }
   ],
   "source": [
    "df = pd.DataFrame.from_records(df)\n",
    "\n"
   ]
  },
  {
   "cell_type": "code",
   "execution_count": 124,
   "metadata": {},
   "outputs": [
    {
     "name": "stdout",
     "output_type": "stream",
     "text": [
      "Fraction of entries w/o total: 0.2846975088967972\n",
      "Fraction of entries w/o date: 0.5124555160142349\n",
      "Fraction of entries w/o address: 0.07651245551601424\n",
      "Fraction of entries w/o company: 0.014234875444839857\n",
      "Fraction of entries w/o total AND date: 0.0800711743772242\n"
     ]
    }
   ],
   "source": [
    "print(\"Fraction of entries w/o total:\", df['S-TOTAL'].isna().sum() / len(df))\n",
    "print(\"Fraction of entries w/o date:\", df['S-DATE'].isna().sum() / len(df))\n",
    "print(\"Fraction of entries w/o address:\", df['S-ADDRESS'].isna().sum() / len(df))\n",
    "print(\"Fraction of entries w/o company:\", df['S-COMPANY'].isna().sum() / len(df))\n",
    "print(\"Fraction of entries w/o total AND date:\", len(df[df['S-TOTAL'].isna()][df[df['S-TOTAL'].isna()]['S-DATE'].isna()]) / len(df))"
   ]
  },
  {
   "cell_type": "code",
   "execution_count": 188,
   "metadata": {},
   "outputs": [
    {
     "name": "stdout",
     "output_type": "stream",
     "text": [
      "['00d0377951457', '00p0693154757', ' 7.60', ' NO 14& 16 JALAN PERMAS 4/3 BANDAR BARU PERMAS JAY', ' TRIPLE SIX POINT ENTERPRISE 666']\n"
     ]
    }
   ],
   "source": [
    "for i, row in df.iterrows():\n",
    "    print(list(row[row.notna()]))\n",
    "    break"
   ]
  },
  {
   "cell_type": "code",
   "execution_count": 189,
   "metadata": {},
   "outputs": [],
   "source": [
    "df.to_csv(\"./dataframe.csv\", sep='\\t')"
   ]
  }
 ],
 "metadata": {
  "kernelspec": {
   "display_name": "Python 3",
   "language": "python",
   "name": "python3"
  },
  "language_info": {
   "codemirror_mode": {
    "name": "ipython",
    "version": 3
   },
   "file_extension": ".py",
   "mimetype": "text/x-python",
   "name": "python",
   "nbconvert_exporter": "python",
   "pygments_lexer": "ipython3",
   "version": "3.10.9"
  },
  "orig_nbformat": 4,
  "vscode": {
   "interpreter": {
    "hash": "b0fa6594d8f4cbf19f97940f81e996739fb7646882a419484c72d19e05852a7e"
   }
  }
 },
 "nbformat": 4,
 "nbformat_minor": 2
}

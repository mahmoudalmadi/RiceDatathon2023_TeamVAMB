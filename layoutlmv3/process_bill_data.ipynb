{
 "cells": [
  {
   "cell_type": "code",
   "execution_count": 75,
   "metadata": {},
   "outputs": [],
   "source": [
    "from transformers import LayoutLMv3Processor, LayoutLMForTokenClassification, LayoutLMv3ImageProcessor\n",
    "from PIL import Image, ImageDraw, ImageFont\n",
    "from difflib import SequenceMatcher\n",
    "from pathlib import Path\n",
    "import numpy as np\n",
    "import pandas as pd\n",
    "import json\n",
    "import torch\n",
    "import glob\n",
    "from PIL import Image\n",
    "from datasets import Dataset"
   ]
  },
  {
   "cell_type": "code",
   "execution_count": 76,
   "metadata": {},
   "outputs": [],
   "source": [
    "example_img = Path('../data/img/00d0108922007.jpg')\n",
    "example_ocr = Path('../data/ocr/00d0108922007.csv')\n",
    "\n",
    "image = Image.open(example_img).convert(\"RGB\")\n",
    "# image.show()"
   ]
  },
  {
   "cell_type": "code",
   "execution_count": 77,
   "metadata": {},
   "outputs": [],
   "source": [
    "# path: path to txt file\n",
    "def txt_to_df(path):\n",
    "    samples = []\n",
    "    with open(path, 'r') as f:\n",
    "        for line in f.readlines():\n",
    "            split_lines = line.split(',', maxsplit=9)\n",
    "\n",
    "            bbox = np.array([split_lines[0], split_lines[1], split_lines[4], split_lines[5]], dtype=np.int32)\n",
    "            text = split_lines[8].strip()\n",
    "\n",
    "            samples.append([path.stem, *bbox, text])\n",
    "\n",
    "    df = pd.DataFrame(samples, columns=['fname', 'x0', 'y0', 'x2', 'y2', 'text'])\n",
    "\n",
    "    return df\n",
    "\n",
    "\n",
    "def normalize_box(x0, y0, x2, y2, width, height):\n",
    "    x0 = int(1000 * (x0 / width))\n",
    "    x2 = int(1000 * (x2 / width))\n",
    "    y0 = int(1000 * (y0 / height))\n",
    "    y2 = int(1000 * (y2 / height))\n",
    "\n",
    "    return [x0, y0, x2, y2]"
   ]
  },
  {
   "cell_type": "code",
   "execution_count": 78,
   "metadata": {},
   "outputs": [],
   "source": [
    "def data_generator():\n",
    "    img_folder = Path(\"../data/img\")\n",
    "    bbox_folder = Path(\"../data/ocr/\")\n",
    "\n",
    "    img_files = [file for file in img_folder.glob(\"*.jpg\")]\n",
    "\n",
    "    files = [file for file in bbox_folder.glob(\"*.csv\")]\n",
    "\n",
    "    skipped_imgs = 0\n",
    "    for img_file in img_files:\n",
    "        data = {}\n",
    "\n",
    "        fname = Path(img_file.name)\n",
    "        bbox_path = bbox_folder / fname.with_suffix(\".csv\")\n",
    "\n",
    "        if (not bbox_path.is_file()):\n",
    "            skipped_imgs += 1\n",
    "            continue\n",
    "\n",
    "        df = txt_to_df(bbox_path)\n",
    "\n",
    "        data['id'] = df.iloc[:1]['fname'].iat[0]\n",
    "        data['words'] = []\n",
    "        data['bboxes'] = []\n",
    "\n",
    "        image = Image.open(img_file)\n",
    "        width, height = image.size\n",
    "\n",
    "        for i, row in df.iterrows():\n",
    "            data['words'].append(row.at['text'])\n",
    "            data['bboxes'].append(normalize_box(row.at['x0'], row.at['y0'], row.at['x2'], row.at['y2'], width, height))\n",
    "\n",
    "        data['image'] = \"../data/img/\" + data['id'] + \".jpg\"\n",
    "        data['ner_tags'] = [\"O\" for i in range(len(data['words']))]\n",
    "\n",
    "        # print(data)\n",
    "\n",
    "        yield data"
   ]
  },
  {
   "cell_type": "code",
   "execution_count": 79,
   "metadata": {},
   "outputs": [
    {
     "name": "stderr",
     "output_type": "stream",
     "text": [
      "Using custom data configuration default-38271dbc043f42d9\n",
      "Found cached dataset generator (/Users/ben/.cache/huggingface/datasets/generator/default-38271dbc043f42d9/0.0.0)\n"
     ]
    }
   ],
   "source": [
    "bill_test = Dataset.from_generator(data_generator)"
   ]
  },
  {
   "cell_type": "code",
   "execution_count": 80,
   "metadata": {},
   "outputs": [
    {
     "data": {
      "application/vnd.jupyter.widget-view+json": {
       "model_id": "249eefc76bda4c9ead6b2f62814a6b9f",
       "version_major": 2,
       "version_minor": 0
      },
      "text/plain": [
       "Casting the dataset:   0%|          | 0/1 [00:00<?, ?ba/s]"
      ]
     },
     "metadata": {},
     "output_type": "display_data"
    }
   ],
   "source": [
    "from datasets import Image, Sequence, ClassLabel\n",
    "\n",
    "bill_test = bill_test.cast_column(\"image\", Image())\n",
    "bill_test = bill_test.cast_column(\"ner_tags\", Sequence(feature=ClassLabel(num_classes=5, names=[\"S-TOTAL\", \"S-DATE\", \"S-ADDRESS\", \"S-COMPANY\", \"O\"], id=None), length=-1, id=None))"
   ]
  },
  {
   "cell_type": "code",
   "execution_count": 81,
   "metadata": {},
   "outputs": [
    {
     "data": {
      "text/plain": [
       "{'id': Value(dtype='string', id=None),\n",
       " 'words': Sequence(feature=Value(dtype='string', id=None), length=-1, id=None),\n",
       " 'bboxes': Sequence(feature=Sequence(feature=Value(dtype='int64', id=None), length=-1, id=None), length=-1, id=None),\n",
       " 'image': Image(decode=True, id=None),\n",
       " 'ner_tags': Sequence(feature=ClassLabel(names=['S-TOTAL', 'S-DATE', 'S-ADDRESS', 'S-COMPANY', 'O'], id=None), length=-1, id=None)}"
      ]
     },
     "execution_count": 81,
     "metadata": {},
     "output_type": "execute_result"
    }
   ],
   "source": [
    "bill_test.features"
   ]
  },
  {
   "cell_type": "code",
   "execution_count": 82,
   "metadata": {},
   "outputs": [
    {
     "data": {
      "application/vnd.jupyter.widget-view+json": {
       "model_id": "5c4eec6f617f4773aef255ea72245369",
       "version_major": 2,
       "version_minor": 0
      },
      "text/plain": [
       "Saving the dataset (0/1 shards):   0%|          | 0/562 [00:00<?, ? examples/s]"
      ]
     },
     "metadata": {},
     "output_type": "display_data"
    }
   ],
   "source": [
    "bill_test.save_to_disk(\"bill_dataset/\")"
   ]
  }
 ],
 "metadata": {
  "kernelspec": {
   "display_name": "Python 3",
   "language": "python",
   "name": "python3"
  },
  "language_info": {
   "codemirror_mode": {
    "name": "ipython",
    "version": 3
   },
   "file_extension": ".py",
   "mimetype": "text/x-python",
   "name": "python",
   "nbconvert_exporter": "python",
   "pygments_lexer": "ipython3",
   "version": "3.10.9"
  },
  "orig_nbformat": 4,
  "vscode": {
   "interpreter": {
    "hash": "b0fa6594d8f4cbf19f97940f81e996739fb7646882a419484c72d19e05852a7e"
   }
  }
 },
 "nbformat": 4,
 "nbformat_minor": 2
}
